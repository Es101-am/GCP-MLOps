{
 "cells": [
  {
   "cell_type": "code",
   "execution_count": 6,
   "id": "cfd3d817-0962-43ac-a847-5fb75e59cd2e",
   "metadata": {
    "tags": []
   },
   "outputs": [],
   "source": [
    "# Retrieve the current active GCP project from gcloud config\n",
    "ACTIVE_PROJECT = !gcloud config get-value core/project\n",
    "ACTIVE_PROJECT = ACTIVE_PROJECT[0]\n",
    "\n",
    "# Specify region and GCS bucket path for pipeline artifacts\n",
    "REGION_NAME = \"us-central1\"\n",
    "PIPELINE_BUCKET = f\"gs://{ACTIVE_PROJECT}-mlops-pipelines\"\n",
    "\n"
   ]
  },
  {
   "cell_type": "code",
   "execution_count": 7,
   "id": "94e35e27-c399-4639-9294-99c1ffa553bc",
   "metadata": {
    "tags": []
   },
   "outputs": [
    {
     "data": {
      "text/plain": [
       "'magnetic-guild-473821-t7'"
      ]
     },
     "execution_count": 7,
     "metadata": {},
     "output_type": "execute_result"
    }
   ],
   "source": [
    "ACTIVE_PROJECT"
   ]
  },
  {
   "cell_type": "markdown",
   "id": "1bc99112-13a8-461b-9d32-494cc79aea51",
   "metadata": {},
   "source": [
    "Step 1 — Create the Dockerfile"
   ]
  },
  {
   "cell_type": "code",
   "execution_count": 8,
   "id": "8f81ca43-a0cf-47ef-8ae5-3bc7e4d9b18c",
   "metadata": {
    "tags": []
   },
   "outputs": [
    {
     "name": "stdout",
     "output_type": "stream",
     "text": [
      "Overwriting mlops-cli/Dockerfile\n"
     ]
    }
   ],
   "source": [
    "%%writefile mlops-cli/Dockerfile\n",
    "\n",
    "# Use Google's base image for CPU ML workloads\n",
    "FROM gcr.io/deeplearning-platform-release/base-cpu\n",
    "\n",
    "# Define working directory\n",
    "WORKDIR /mlops-cli\n",
    "\n",
    "# Copy your pipeline script and dependency list\n",
    "COPY pipeline.py ./pipeline.py\n",
    "COPY requirements.txt ./requirements.txt\n",
    "\n",
    "# Install dependencies\n",
    "RUN pip install --no-cache-dir -r requirements.txt\n",
    "\n",
    "# Default command: execute the pipeline script\n",
    "ENTRYPOINT [\"python\", \"pipeline.py\"]\n"
   ]
  },
  {
   "cell_type": "markdown",
   "id": "191f5369-ece8-49b8-9dc7-5e5c5e80295d",
   "metadata": {},
   "source": [
    "Enable Docker authentication with Artifact Registry"
   ]
  },
  {
   "cell_type": "code",
   "execution_count": 9,
   "id": "730949bd-ade9-44ea-b191-ac38681e28f6",
   "metadata": {
    "tags": []
   },
   "outputs": [
    {
     "name": "stdout",
     "output_type": "stream",
     "text": [
      "Creating gs://magnetic-guild-473821-t7-mlops-pipelines/...\n",
      "ServiceException: 409 A Cloud Storage bucket named 'magnetic-guild-473821-t7-mlops-pipelines' already exists. Try another name. Bucket names must be globally unique across all Google Cloud projects, including those outside of your organization.\n"
     ]
    }
   ],
   "source": [
    "! gsutil mb -l {REGION_NAME} -p {ACTIVE_PROJECT} {PIPELINE_BUCKET}\n"
   ]
  },
  {
   "cell_type": "markdown",
   "id": "9eec34cb-e1c3-4433-8e7b-24507413200a",
   "metadata": {},
   "source": [
    "Enable Docker authentication with Artifact Registry"
   ]
  },
  {
   "cell_type": "code",
   "execution_count": 11,
   "id": "9cccd631-b854-455f-98ed-550bad8a5e2f",
   "metadata": {
    "tags": []
   },
   "outputs": [
    {
     "name": "stdout",
     "output_type": "stream",
     "text": [
      "\u001b[1;33mWARNING:\u001b[0m Your config file at [/home/jupyter/.docker/config.json] contains these credential helper entries:\n",
      "\n",
      "{\n",
      "  \"credHelpers\": {\n",
      "    \"gcr.io\": \"gcloud\",\n",
      "    \"us.gcr.io\": \"gcloud\",\n",
      "    \"eu.gcr.io\": \"gcloud\",\n",
      "    \"asia.gcr.io\": \"gcloud\",\n",
      "    \"staging-k8s.gcr.io\": \"gcloud\",\n",
      "    \"marketplace.gcr.io\": \"gcloud\",\n",
      "    \"us-central1-docker.pkg.dev\": \"gcloud\"\n",
      "  }\n",
      "}\n",
      "Adding credentials for: us-central1-docker.pkg.dev\n",
      "gcloud credential helpers already registered correctly.\n"
     ]
    }
   ],
   "source": [
    "!gcloud auth configure-docker us-central1-docker.pkg.dev\n"
   ]
  },
  {
   "cell_type": "markdown",
   "id": "f17b44e1-0254-434e-a6de-6ce9c7e35960",
   "metadata": {},
   "source": [
    "Create a new Artifact Registry repository"
   ]
  },
  {
   "cell_type": "code",
   "execution_count": 12,
   "id": "3a457fe9-41ac-450a-860b-bedf8ba31511",
   "metadata": {
    "tags": []
   },
   "outputs": [],
   "source": [
    "DOCKER_REPO_NAME = \"mlops-artifacts\"\n"
   ]
  },
  {
   "cell_type": "code",
   "execution_count": 13,
   "id": "ea3fa431-2c4e-4ddc-85dc-3bafec596b76",
   "metadata": {
    "tags": []
   },
   "outputs": [],
   "source": [
    "ACTIVE_PROJECT = ACTIVE_PROJECT.strip().replace(\"\\n\", \"\")\n"
   ]
  },
  {
   "cell_type": "code",
   "execution_count": 14,
   "id": "40fa41a9-a4f3-41f6-b3b3-7baecd4560f7",
   "metadata": {
    "tags": []
   },
   "outputs": [
    {
     "name": "stdout",
     "output_type": "stream",
     "text": [
      "\u001b[1;31mERROR:\u001b[0m (gcloud.artifacts.repositories.create) ALREADY_EXISTS: the repository already exists\n"
     ]
    }
   ],
   "source": [
    "!gcloud artifacts repositories create $DOCKER_REPO_NAME \\\n",
    "    --repository-format=docker \\\n",
    "    --location=$REGION_NAME \\\n",
    "    --description=\"Repository for storing custom MLOps Docker images\" \\\n",
    "    --project=$ACTIVE_PROJECT --quiet\n"
   ]
  },
  {
   "cell_type": "markdown",
   "id": "deade892-469a-4916-8b79-880acbb39b7b",
   "metadata": {},
   "source": [
    "Define and verify image paths"
   ]
  },
  {
   "cell_type": "code",
   "execution_count": 15,
   "id": "bd771f34-5aa3-4e7a-857b-f023622f3e58",
   "metadata": {
    "tags": []
   },
   "outputs": [
    {
     "data": {
      "text/plain": [
       "'us-central1-docker.pkg.dev/magnetic-guild-473821-t7/mlops-artifacts/mlops-pipeline-image:v1'"
      ]
     },
     "execution_count": 15,
     "metadata": {},
     "output_type": "execute_result"
    }
   ],
   "source": [
    "# Define registry base and full image path\n",
    "REGISTRY_HOST = f\"{REGION_NAME}-docker.pkg.dev\"\n",
    "IMAGE_LABEL = \"mlops-pipeline-image\"\n",
    "VERSION_TAG = \"v1\"\n",
    "IMAGE_PATH = f\"{REGISTRY_HOST}/{ACTIVE_PROJECT}/{DOCKER_REPO_NAME}/{IMAGE_LABEL}:{VERSION_TAG}\"\n",
    "\n",
    "# Confirm the final image URI\n",
    "IMAGE_PATH\n"
   ]
  },
  {
   "cell_type": "markdown",
   "id": "f3891088-d4db-4d9a-a2be-bd598054d2fd",
   "metadata": {},
   "source": [
    "Build Docker image locally"
   ]
  },
  {
   "cell_type": "code",
   "execution_count": 16,
   "id": "08f5d59c-9329-4ea5-bee1-e82a2c13ea92",
   "metadata": {
    "tags": []
   },
   "outputs": [
    {
     "name": "stdout",
     "output_type": "stream",
     "text": [
      "sha256:f303592cc02c05b61bc9926ad9cb538c6ce4d6fe843e4252dfcb0aeb2ad32ed0\n"
     ]
    }
   ],
   "source": [
    "! docker build -t mlops-pipeline:latest ./mlops-cli --quiet\n"
   ]
  },
  {
   "cell_type": "markdown",
   "id": "55079fcc-c36b-42fe-af48-7660449b586a",
   "metadata": {},
   "source": [
    "Tag the image with the Artifact Registry path"
   ]
  },
  {
   "cell_type": "code",
   "execution_count": 53,
   "id": "2186b6a0-5256-4cc8-9d4a-c5e5bbfd0ffe",
   "metadata": {
    "tags": []
   },
   "outputs": [],
   "source": [
    "! docker tag mlops-pipeline:latest {IMAGE_PATH}"
   ]
  },
  {
   "cell_type": "code",
   "execution_count": 65,
   "id": "2174345d-5a39-45b9-99b1-5890df145734",
   "metadata": {
    "tags": []
   },
   "outputs": [],
   "source": [
    "!pip install -q --upgrade pip"
   ]
  },
  {
   "cell_type": "markdown",
   "id": "0d1913fb-fbd5-4e36-977b-63e10fe17b42",
   "metadata": {},
   "source": [
    "Alternative: Use Cloud Build for building and pushing"
   ]
  },
  {
   "cell_type": "code",
   "execution_count": 67,
   "id": "be49286d-a5e5-468d-a963-07b0538f7160",
   "metadata": {
    "tags": []
   },
   "outputs": [
    {
     "name": "stdout",
     "output_type": "stream",
     "text": [
      "Creating temporary archive of 6 file(s) totalling 22.3 KiB before compression.\n",
      "Uploading tarball of [./mlops-cli] to [gs://magnetic-guild-473821-t7_cloudbuild/source/1759593571.374581-cc41a3cddce1446ca4ac3311413124b7.tgz]\n",
      "Created [https://cloudbuild.googleapis.com/v1/projects/magnetic-guild-473821-t7/locations/global/builds/ceae479e-b640-48e1-b619-09d5fad90174].\n",
      "Logs are available at [ https://console.cloud.google.com/cloud-build/builds/ceae479e-b640-48e1-b619-09d5fad90174?project=870469359193 ].\n",
      "Waiting for build to complete. Polling interval: 1 second(s).\n",
      "----------------------------- REMOTE BUILD OUTPUT ------------------------------\n",
      "starting build \"ceae479e-b640-48e1-b619-09d5fad90174\"\n",
      "\n",
      "FETCHSOURCE\n",
      "Fetching storage object: gs://magnetic-guild-473821-t7_cloudbuild/source/1759593571.374581-cc41a3cddce1446ca4ac3311413124b7.tgz#1759593571584049\n",
      "Copying gs://magnetic-guild-473821-t7_cloudbuild/source/1759593571.374581-cc41a3cddce1446ca4ac3311413124b7.tgz#1759593571584049...\n",
      "/ [1 files][  4.4 KiB/  4.4 KiB]                                                \n",
      "Operation completed over 1 objects/4.4 KiB.\n",
      "BUILD\n",
      "Already have image (with digest): gcr.io/cloud-builders/gcb-internal\n",
      "Sending build context to Docker daemon  28.16kB\n",
      "Step 1/7 : FROM gcr.io/deeplearning-platform-release/base-cpu\n",
      "latest: Pulling from deeplearning-platform-release/base-cpu\n",
      "86e5016c2693: Pulling fs layer\n",
      "096ec609c919: Pulling fs layer\n",
      "f389eac6520c: Pulling fs layer\n",
      "4f4fb700ef54: Pulling fs layer\n",
      "8d47e4a1dc24: Pulling fs layer\n",
      "b942d15ed3b4: Pulling fs layer\n",
      "af505d28678e: Pulling fs layer\n",
      "d45018a075d4: Pulling fs layer\n",
      "67b3f6f31476: Pulling fs layer\n",
      "7528812e52eb: Pulling fs layer\n",
      "f2eff0439965: Pulling fs layer\n",
      "3dcaa61f66f2: Pulling fs layer\n",
      "1032889a1174: Pulling fs layer\n",
      "06ea551abd3c: Pulling fs layer\n",
      "fea4ca39a6c9: Pulling fs layer\n",
      "57be888208db: Pulling fs layer\n",
      "5f56d785927d: Pulling fs layer\n",
      "fd83492ed545: Pulling fs layer\n",
      "01b5c40f4fa3: Pulling fs layer\n",
      "2c42f1a8b1ce: Pulling fs layer\n",
      "bfd10bb5d68b: Pulling fs layer\n",
      "e68e52c74e67: Pulling fs layer\n",
      "cb2c9d9012be: Pulling fs layer\n",
      "6cd4e7838d20: Pulling fs layer\n",
      "adf2c8c5ce7a: Pulling fs layer\n",
      "acf7e3c186f2: Pulling fs layer\n",
      "0b9f3e32984a: Pulling fs layer\n",
      "668a1b099214: Pulling fs layer\n",
      "3979ae49c6c6: Pulling fs layer\n",
      "4f4fb700ef54: Waiting\n",
      "8d47e4a1dc24: Waiting\n",
      "b942d15ed3b4: Waiting\n",
      "af505d28678e: Waiting\n",
      "d45018a075d4: Waiting\n",
      "67b3f6f31476: Waiting\n",
      "7528812e52eb: Waiting\n",
      "f2eff0439965: Waiting\n",
      "3dcaa61f66f2: Waiting\n",
      "1032889a1174: Waiting\n",
      "06ea551abd3c: Waiting\n",
      "fea4ca39a6c9: Waiting\n",
      "57be888208db: Waiting\n",
      "5f56d785927d: Waiting\n",
      "fd83492ed545: Waiting\n",
      "01b5c40f4fa3: Waiting\n",
      "2c42f1a8b1ce: Waiting\n",
      "bfd10bb5d68b: Waiting\n",
      "e68e52c74e67: Waiting\n",
      "cb2c9d9012be: Waiting\n",
      "6cd4e7838d20: Waiting\n",
      "adf2c8c5ce7a: Waiting\n",
      "acf7e3c186f2: Waiting\n",
      "0b9f3e32984a: Waiting\n",
      "668a1b099214: Waiting\n",
      "3979ae49c6c6: Waiting\n",
      "f389eac6520c: Verifying Checksum\n",
      "f389eac6520c: Download complete\n",
      "4f4fb700ef54: Verifying Checksum\n",
      "4f4fb700ef54: Download complete\n",
      "86e5016c2693: Verifying Checksum\n",
      "86e5016c2693: Download complete\n",
      "096ec609c919: Verifying Checksum\n",
      "096ec609c919: Download complete\n",
      "af505d28678e: Verifying Checksum\n",
      "af505d28678e: Download complete\n",
      "d45018a075d4: Verifying Checksum\n",
      "d45018a075d4: Download complete\n",
      "67b3f6f31476: Verifying Checksum\n",
      "67b3f6f31476: Download complete\n",
      "7528812e52eb: Download complete\n",
      "f2eff0439965: Verifying Checksum\n",
      "f2eff0439965: Download complete\n",
      "3dcaa61f66f2: Verifying Checksum\n",
      "3dcaa61f66f2: Download complete\n",
      "b942d15ed3b4: Verifying Checksum\n",
      "b942d15ed3b4: Download complete\n",
      "06ea551abd3c: Verifying Checksum\n",
      "06ea551abd3c: Download complete\n",
      "fea4ca39a6c9: Download complete\n",
      "57be888208db: Verifying Checksum\n",
      "57be888208db: Download complete\n",
      "5f56d785927d: Verifying Checksum\n",
      "5f56d785927d: Download complete\n",
      "8d47e4a1dc24: Verifying Checksum\n",
      "8d47e4a1dc24: Download complete\n",
      "fd83492ed545: Verifying Checksum\n",
      "fd83492ed545: Download complete\n",
      "01b5c40f4fa3: Verifying Checksum\n",
      "01b5c40f4fa3: Download complete\n",
      "bfd10bb5d68b: Verifying Checksum\n",
      "bfd10bb5d68b: Download complete\n",
      "2c42f1a8b1ce: Verifying Checksum\n",
      "2c42f1a8b1ce: Download complete\n",
      "cb2c9d9012be: Verifying Checksum\n",
      "cb2c9d9012be: Download complete\n",
      "e68e52c74e67: Verifying Checksum\n",
      "e68e52c74e67: Download complete\n",
      "adf2c8c5ce7a: Verifying Checksum\n",
      "adf2c8c5ce7a: Download complete\n",
      "acf7e3c186f2: Verifying Checksum\n",
      "acf7e3c186f2: Download complete\n",
      "1032889a1174: Verifying Checksum\n",
      "1032889a1174: Download complete\n",
      "0b9f3e32984a: Verifying Checksum\n",
      "0b9f3e32984a: Download complete\n",
      "668a1b099214: Verifying Checksum\n",
      "668a1b099214: Download complete\n",
      "3979ae49c6c6: Download complete\n",
      "86e5016c2693: Pull complete\n",
      "096ec609c919: Pull complete\n",
      "f389eac6520c: Pull complete\n",
      "4f4fb700ef54: Pull complete\n",
      "6cd4e7838d20: Verifying Checksum\n",
      "6cd4e7838d20: Download complete\n",
      "8d47e4a1dc24: Pull complete\n",
      "b942d15ed3b4: Pull complete\n",
      "af505d28678e: Pull complete\n",
      "d45018a075d4: Pull complete\n",
      "67b3f6f31476: Pull complete\n",
      "7528812e52eb: Pull complete\n",
      "f2eff0439965: Pull complete\n",
      "3dcaa61f66f2: Pull complete\n",
      "1032889a1174: Pull complete\n",
      "06ea551abd3c: Pull complete\n",
      "fea4ca39a6c9: Pull complete\n",
      "57be888208db: Pull complete\n",
      "5f56d785927d: Pull complete\n",
      "fd83492ed545: Pull complete\n",
      "01b5c40f4fa3: Pull complete\n",
      "2c42f1a8b1ce: Pull complete\n",
      "bfd10bb5d68b: Pull complete\n",
      "e68e52c74e67: Pull complete\n",
      "cb2c9d9012be: Pull complete\n",
      "6cd4e7838d20: Pull complete\n",
      "adf2c8c5ce7a: Pull complete\n",
      "acf7e3c186f2: Pull complete\n",
      "0b9f3e32984a: Pull complete\n",
      "668a1b099214: Pull complete\n",
      "3979ae49c6c6: Pull complete\n",
      "Digest: sha256:394be02c6b020a39837e0719c546d56b829994ce091fde7970c232b7f16a6640\n",
      "Status: Downloaded newer image for gcr.io/deeplearning-platform-release/base-cpu:latest\n",
      " ---> 746ad2db8b1c\n",
      "Step 2/7 : WORKDIR /app\n",
      " ---> Running in d10e2d2baf08\n",
      "Removing intermediate container d10e2d2baf08\n",
      " ---> b914395bb5ba\n",
      "Step 3/7 : COPY requirements.txt .\n",
      " ---> 0ddf4699d023\n",
      "Step 4/7 : RUN pip uninstall -y google-api-python-client google-cloud-datastore || true\n",
      " ---> Running in 21ffade03cf8\n",
      "Found existing installation: google-api-python-client 1.8.0\n",
      "Uninstalling google-api-python-client-1.8.0:\n",
      "  Successfully uninstalled google-api-python-client-1.8.0\n",
      "Found existing installation: google-cloud-datastore 1.15.5\n",
      "Uninstalling google-cloud-datastore-1.15.5:\n",
      "  Successfully uninstalled google-cloud-datastore-1.15.5\n",
      "\u001b[91mWARNING: Running pip as the 'root' user can result in broken permissions and conflicting behaviour with the system package manager, possibly rendering your system unusable. It is recommended to use a virtual environment instead: https://pip.pypa.io/warnings/venv. Use the --root-user-action option if you know what you are doing and want to suppress this warning.\n",
      "\u001b[0mRemoving intermediate container 21ffade03cf8\n",
      " ---> 451561cfaf01\n",
      "Step 5/7 : RUN python -m pip install --upgrade pip &&     pip install --no-cache-dir -r requirements.txt\n",
      " ---> Running in 70ad0af5cd82\n",
      "Requirement already satisfied: pip in /opt/python/3.10/lib/python3.10/site-packages (25.0.1)\n",
      "Collecting pip\n",
      "  Downloading pip-25.2-py3-none-any.whl.metadata (4.7 kB)\n",
      "Downloading pip-25.2-py3-none-any.whl (1.8 MB)\n",
      "   ━━━━━━━━━━━━━━━━━━━━━━━━━━━━━━━━━━━━━━━━ 1.8/1.8 MB 34.8 MB/s eta 0:00:00\n",
      "Installing collected packages: pip\n",
      "  Attempting uninstall: pip\n",
      "    Found existing installation: pip 25.0.1\n",
      "    Uninstalling pip-25.0.1:\n",
      "      Successfully uninstalled pip-25.0.1\n",
      "Successfully installed pip-25.2\n",
      "\u001b[91mWARNING: Running pip as the 'root' user can result in broken permissions and conflicting behaviour with the system package manager, possibly rendering your system unusable. It is recommended to use a virtual environment instead: https://pip.pypa.io/warnings/venv. Use the --root-user-action option if you know what you are doing and want to suppress this warning.\n",
      "\u001b[0mCollecting kfp==2.7.0 (from -r requirements.txt (line 2))\n",
      "  Downloading kfp-2.7.0.tar.gz (441 kB)\n",
      "  Installing build dependencies: started\n",
      "  Installing build dependencies: finished with status 'done'\n",
      "  Getting requirements to build wheel: started\n",
      "  Getting requirements to build wheel: finished with status 'done'\n",
      "  Preparing metadata (pyproject.toml): started\n",
      "  Preparing metadata (pyproject.toml): finished with status 'done'\n",
      "Collecting kfp-pipeline-spec==0.3.0 (from -r requirements.txt (line 3))\n",
      "  Downloading kfp_pipeline_spec-0.3.0-py3-none-any.whl.metadata (329 bytes)\n",
      "Requirement already satisfied: kfp-server-api==2.0.5 in /opt/python/3.10/lib/python3.10/site-packages (from -r requirements.txt (line 4)) (2.0.5)\n",
      "Collecting google-cloud-aiplatform==1.56.0 (from -r requirements.txt (line 7))\n",
      "  Downloading google_cloud_aiplatform-1.56.0-py2.py3-none-any.whl.metadata (31 kB)\n",
      "Requirement already satisfied: google-cloud-storage<3,>=2.14.0 in /opt/python/3.10/lib/python3.10/site-packages (from -r requirements.txt (line 10)) (2.14.0)\n",
      "Collecting google-api-core<3,>=2.11.0 (from -r requirements.txt (line 11))\n",
      "  Downloading google_api_core-2.25.2-py3-none-any.whl.metadata (3.0 kB)\n",
      "Collecting protobuf<5,>=4.23.0 (from -r requirements.txt (line 12))\n",
      "  Downloading protobuf-4.25.8-cp37-abi3-manylinux2014_x86_64.whl.metadata (541 bytes)\n",
      "Requirement already satisfied: pandas>=2.0.0 in /opt/python/3.10/lib/python3.10/site-packages (from -r requirements.txt (line 15)) (2.0.3)\n",
      "Requirement already satisfied: scikit-learn>=1.2.0 in /opt/python/3.10/lib/python3.10/site-packages (from -r requirements.txt (line 16)) (1.6.1)\n",
      "Collecting xgboost>=1.7.0 (from -r requirements.txt (line 17))\n",
      "  Downloading xgboost-3.0.5-py3-none-manylinux_2_28_x86_64.whl.metadata (2.1 kB)\n",
      "Requirement already satisfied: joblib>=1.3.0 in /opt/python/3.10/lib/python3.10/site-packages (from -r requirements.txt (line 18)) (1.4.2)\n",
      "Requirement already satisfied: click<9,>=8.0.0 in /opt/python/3.10/lib/python3.10/site-packages (from kfp==2.7.0->-r requirements.txt (line 2)) (8.1.8)\n",
      "Requirement already satisfied: docstring-parser<1,>=0.7.3 in /opt/python/3.10/lib/python3.10/site-packages (from kfp==2.7.0->-r requirements.txt (line 2)) (0.16)\n",
      "Requirement already satisfied: google-auth<3,>=1.6.1 in /opt/python/3.10/lib/python3.10/site-packages (from kfp==2.7.0->-r requirements.txt (line 2)) (2.38.0)\n",
      "Requirement already satisfied: kubernetes<27,>=8.0.0 in /opt/python/3.10/lib/python3.10/site-packages (from kfp==2.7.0->-r requirements.txt (line 2)) (26.1.0)\n",
      "Requirement already satisfied: PyYAML<7,>=5.3 in /opt/python/3.10/lib/python3.10/site-packages (from kfp==2.7.0->-r requirements.txt (line 2)) (6.0.2)\n",
      "Requirement already satisfied: requests-toolbelt<1,>=0.8.0 in /opt/python/3.10/lib/python3.10/site-packages (from kfp==2.7.0->-r requirements.txt (line 2)) (0.10.1)\n",
      "Requirement already satisfied: tabulate<1,>=0.8.6 in /opt/python/3.10/lib/python3.10/site-packages (from kfp==2.7.0->-r requirements.txt (line 2)) (0.9.0)\n",
      "Requirement already satisfied: urllib3<2.0.0 in /opt/python/3.10/lib/python3.10/site-packages (from kfp==2.7.0->-r requirements.txt (line 2)) (1.26.20)\n",
      "Requirement already satisfied: six>=1.10 in /opt/python/3.10/lib/python3.10/site-packages (from kfp-server-api==2.0.5->-r requirements.txt (line 4)) (1.17.0)\n",
      "Requirement already satisfied: certifi in /opt/python/3.10/lib/python3.10/site-packages (from kfp-server-api==2.0.5->-r requirements.txt (line 4)) (2025.1.31)\n",
      "Requirement already satisfied: python-dateutil in /opt/python/3.10/lib/python3.10/site-packages (from kfp-server-api==2.0.5->-r requirements.txt (line 4)) (2.9.0.post0)\n",
      "Requirement already satisfied: proto-plus<2.0.0dev,>=1.22.0 in /opt/python/3.10/lib/python3.10/site-packages (from google-cloud-aiplatform==1.56.0->-r requirements.txt (line 7)) (1.26.1)\n",
      "Requirement already satisfied: packaging>=14.3 in /opt/python/3.10/lib/python3.10/site-packages (from google-cloud-aiplatform==1.56.0->-r requirements.txt (line 7)) (24.2)\n",
      "Requirement already satisfied: google-cloud-bigquery!=3.20.0,<4.0.0dev,>=1.15.0 in /opt/python/3.10/lib/python3.10/site-packages (from google-cloud-aiplatform==1.56.0->-r requirements.txt (line 7)) (3.25.0)\n",
      "Requirement already satisfied: google-cloud-resource-manager<3.0.0dev,>=1.3.3 in /opt/python/3.10/lib/python3.10/site-packages (from google-cloud-aiplatform==1.56.0->-r requirements.txt (line 7)) (1.14.2)\n",
      "Requirement already satisfied: shapely<3.0.0dev in /opt/python/3.10/lib/python3.10/site-packages (from google-cloud-aiplatform==1.56.0->-r requirements.txt (line 7)) (2.1.0)\n",
      "Requirement already satisfied: pydantic<3 in /opt/python/3.10/lib/python3.10/site-packages (from google-cloud-aiplatform==1.56.0->-r requirements.txt (line 7)) (1.10.21)\n",
      "Requirement already satisfied: google-cloud-core<3.0dev,>=2.3.0 in /opt/python/3.10/lib/python3.10/site-packages (from google-cloud-storage<3,>=2.14.0->-r requirements.txt (line 10)) (2.4.3)\n",
      "Requirement already satisfied: google-resumable-media>=2.6.0 in /opt/python/3.10/lib/python3.10/site-packages (from google-cloud-storage<3,>=2.14.0->-r requirements.txt (line 10)) (2.7.2)\n",
      "Requirement already satisfied: requests<3.0.0dev,>=2.18.0 in /opt/python/3.10/lib/python3.10/site-packages (from google-cloud-storage<3,>=2.14.0->-r requirements.txt (line 10)) (2.32.3)\n",
      "Requirement already satisfied: google-crc32c<2.0dev,>=1.0 in /opt/python/3.10/lib/python3.10/site-packages (from google-cloud-storage<3,>=2.14.0->-r requirements.txt (line 10)) (1.7.1)\n",
      "Requirement already satisfied: googleapis-common-protos<2.0.0,>=1.56.2 in /opt/python/3.10/lib/python3.10/site-packages (from google-api-core<3,>=2.11.0->-r requirements.txt (line 11)) (1.69.2)\n",
      "Requirement already satisfied: grpcio<2.0.0,>=1.33.2 in /opt/python/3.10/lib/python3.10/site-packages (from google-api-core[grpc]!=2.0.*,!=2.1.*,!=2.2.*,!=2.3.*,!=2.4.*,!=2.5.*,!=2.6.*,!=2.7.*,<3.0.0dev,>=1.34.1->google-cloud-aiplatform==1.56.0->-r requirements.txt (line 7)) (1.72.0rc1)\n",
      "Requirement already satisfied: grpcio-status<2.0.0,>=1.33.2 in /opt/python/3.10/lib/python3.10/site-packages (from google-api-core[grpc]!=2.0.*,!=2.1.*,!=2.2.*,!=2.3.*,!=2.4.*,!=2.5.*,!=2.6.*,!=2.7.*,<3.0.0dev,>=1.34.1->google-cloud-aiplatform==1.56.0->-r requirements.txt (line 7)) (1.49.0rc1)\n",
      "Requirement already satisfied: cachetools<6.0,>=2.0.0 in /opt/python/3.10/lib/python3.10/site-packages (from google-auth<3,>=1.6.1->kfp==2.7.0->-r requirements.txt (line 2)) (5.5.2)\n",
      "Requirement already satisfied: pyasn1-modules>=0.2.1 in /opt/python/3.10/lib/python3.10/site-packages (from google-auth<3,>=1.6.1->kfp==2.7.0->-r requirements.txt (line 2)) (0.4.2)\n",
      "Requirement already satisfied: rsa<5,>=3.1.4 in /opt/python/3.10/lib/python3.10/site-packages (from google-auth<3,>=1.6.1->kfp==2.7.0->-r requirements.txt (line 2)) (4.9)\n",
      "Requirement already satisfied: grpc-google-iam-v1<1.0.0,>=0.14.0 in /opt/python/3.10/lib/python3.10/site-packages (from google-cloud-resource-manager<3.0.0dev,>=1.3.3->google-cloud-aiplatform==1.56.0->-r requirements.txt (line 7)) (0.14.2)\n",
      "Requirement already satisfied: setuptools>=21.0.0 in /opt/python/3.10/lib/python3.10/site-packages (from kubernetes<27,>=8.0.0->kfp==2.7.0->-r requirements.txt (line 2)) (65.5.0)\n",
      "Requirement already satisfied: websocket-client!=0.40.0,!=0.41.*,!=0.42.*,>=0.32.0 in /opt/python/3.10/lib/python3.10/site-packages (from kubernetes<27,>=8.0.0->kfp==2.7.0->-r requirements.txt (line 2)) (1.8.0)\n",
      "Requirement already satisfied: requests-oauthlib in /opt/python/3.10/lib/python3.10/site-packages (from kubernetes<27,>=8.0.0->kfp==2.7.0->-r requirements.txt (line 2)) (2.0.0)\n",
      "Requirement already satisfied: typing-extensions>=4.2.0 in /opt/python/3.10/lib/python3.10/site-packages (from pydantic<3->google-cloud-aiplatform==1.56.0->-r requirements.txt (line 7)) (4.13.2)\n",
      "Requirement already satisfied: charset-normalizer<4,>=2 in /opt/python/3.10/lib/python3.10/site-packages (from requests<3.0.0dev,>=2.18.0->google-cloud-storage<3,>=2.14.0->-r requirements.txt (line 10)) (3.4.1)\n",
      "Requirement already satisfied: idna<4,>=2.5 in /opt/python/3.10/lib/python3.10/site-packages (from requests<3.0.0dev,>=2.18.0->google-cloud-storage<3,>=2.14.0->-r requirements.txt (line 10)) (3.10)\n",
      "Requirement already satisfied: pyasn1>=0.1.3 in /opt/python/3.10/lib/python3.10/site-packages (from rsa<5,>=3.1.4->google-auth<3,>=1.6.1->kfp==2.7.0->-r requirements.txt (line 2)) (0.6.1)\n",
      "Requirement already satisfied: numpy>=1.21 in /opt/python/3.10/lib/python3.10/site-packages (from shapely<3.0.0dev->google-cloud-aiplatform==1.56.0->-r requirements.txt (line 7)) (1.25.2)\n",
      "Requirement already satisfied: pytz>=2020.1 in /opt/python/3.10/lib/python3.10/site-packages (from pandas>=2.0.0->-r requirements.txt (line 15)) (2025.2)\n",
      "Requirement already satisfied: tzdata>=2022.1 in /opt/python/3.10/lib/python3.10/site-packages (from pandas>=2.0.0->-r requirements.txt (line 15)) (2025.2)\n",
      "Requirement already satisfied: scipy>=1.6.0 in /opt/python/3.10/lib/python3.10/site-packages (from scikit-learn>=1.2.0->-r requirements.txt (line 16)) (1.11.4)\n",
      "Requirement already satisfied: threadpoolctl>=3.1.0 in /opt/python/3.10/lib/python3.10/site-packages (from scikit-learn>=1.2.0->-r requirements.txt (line 16)) (3.6.0)\n",
      "Collecting nvidia-nccl-cu12 (from xgboost>=1.7.0->-r requirements.txt (line 17))\n",
      "  Downloading nvidia_nccl_cu12-2.28.3-py3-none-manylinux_2_18_x86_64.whl.metadata (2.0 kB)\n",
      "Requirement already satisfied: oauthlib>=3.0.0 in /opt/python/3.10/lib/python3.10/site-packages (from requests-oauthlib->kubernetes<27,>=8.0.0->kfp==2.7.0->-r requirements.txt (line 2)) (3.2.2)\n",
      "Downloading kfp_pipeline_spec-0.3.0-py3-none-any.whl (12 kB)\n",
      "Downloading google_cloud_aiplatform-1.56.0-py2.py3-none-any.whl (5.1 MB)\n",
      "   ━━━━━━━━━━━━━━━━━━━━━━━━━━━━━━━━━━━━━━━━ 5.1/5.1 MB 145.9 MB/s  0:00:00\n",
      "Downloading google_api_core-2.25.2-py3-none-any.whl (162 kB)\n",
      "Downloading protobuf-4.25.8-cp37-abi3-manylinux2014_x86_64.whl (294 kB)\n",
      "Downloading xgboost-3.0.5-py3-none-manylinux_2_28_x86_64.whl (94.9 MB)\n",
      "   ━━━━━━━━━━━━━━━━━━━━━━━━━━━━━━━━━━━━━━━━ 94.9/94.9 MB 201.3 MB/s  0:00:00\n",
      "Downloading nvidia_nccl_cu12-2.28.3-py3-none-manylinux_2_18_x86_64.whl (295.9 MB)\n",
      "   ━━━━━━━━━━━━━━━━━━━━━━━━━━━━━━━━━━━━━━━━ 295.9/295.9 MB 199.1 MB/s  0:00:01\n",
      "Building wheels for collected packages: kfp\n",
      "  Building wheel for kfp (pyproject.toml): started\n",
      "  Building wheel for kfp (pyproject.toml): finished with status 'done'\n",
      "  Created wheel for kfp: filename=kfp-2.7.0-py3-none-any.whl size=610468 sha256=e9b5e91b37de6d19fa183f9e4f1682ce1287a261cdc17cf19bc1e53b36dafb1f\n",
      "  Stored in directory: /tmp/pip-ephem-wheel-cache-rp8z3wse/wheels/9e/7d/a4/f9d013e82681c9746ef10de3b00456163577a99279c5ed673d\n",
      "Successfully built kfp\n",
      "Installing collected packages: protobuf, nvidia-nccl-cu12, xgboost, kfp-pipeline-spec, google-api-core, kfp, google-cloud-aiplatform\n",
      "  Attempting uninstall: protobuf\n",
      "    Found existing installation: protobuf 3.20.3\n",
      "    Uninstalling protobuf-3.20.3:\n",
      "      Successfully uninstalled protobuf-3.20.3\n",
      "  Attempting uninstall: kfp-pipeline-spec\n",
      "    Found existing installation: kfp-pipeline-spec 0.2.2\n",
      "    Uninstalling kfp-pipeline-spec-0.2.2:\n",
      "      Successfully uninstalled kfp-pipeline-spec-0.2.2\n",
      "  Attempting uninstall: google-api-core\n",
      "    Found existing installation: google-api-core 1.34.1\n",
      "    Uninstalling google-api-core-1.34.1:\n",
      "      Successfully uninstalled google-api-core-1.34.1\n",
      "  Attempting uninstall: kfp\n",
      "    Found existing installation: kfp 2.5.0\n",
      "    Uninstalling kfp-2.5.0:\n",
      "      Successfully uninstalled kfp-2.5.0\n",
      "  Attempting uninstall: google-cloud-aiplatform\n",
      "    Found existing installation: google-cloud-aiplatform 1.88.0\n",
      "    Uninstalling google-cloud-aiplatform-1.88.0:\n",
      "      Successfully uninstalled google-cloud-aiplatform-1.88.0\n",
      "\n",
      "Successfully installed google-api-core-2.25.2 google-cloud-aiplatform-1.56.0 kfp-2.7.0 kfp-pipeline-spec-0.3.0 nvidia-nccl-cu12-2.28.3 protobuf-4.25.8 xgboost-3.0.5\n",
      "\u001b[91mWARNING: Running pip as the 'root' user can result in broken permissions and conflicting behaviour with the system package manager, possibly rendering your system unusable. It is recommended to use a virtual environment instead: https://pip.pypa.io/warnings/venv. Use the --root-user-action option if you know what you are doing and want to suppress this warning.\n",
      "\u001b[0mRemoving intermediate container 70ad0af5cd82\n",
      " ---> 47c5f9f34c2f\n",
      "Step 6/7 : COPY pipeline.py .\n",
      " ---> d03d82da0e9e\n",
      "Step 7/7 : ENTRYPOINT [\"python\", \"pipeline.py\"]\n",
      " ---> Running in 3ca5e447520a\n",
      "Removing intermediate container 3ca5e447520a\n",
      " ---> faca94b3b343\n",
      "Successfully built faca94b3b343\n",
      "Successfully tagged us-central1-docker.pkg.dev/magnetic-guild-473821-t7/mlops-artifacts/mlops-pipeline-image:v1\n",
      "PUSH\n",
      "Pushing us-central1-docker.pkg.dev/magnetic-guild-473821-t7/mlops-artifacts/mlops-pipeline-image:v1\n",
      "The push refers to repository [us-central1-docker.pkg.dev/magnetic-guild-473821-t7/mlops-artifacts/mlops-pipeline-image]\n",
      "df09f343aa71: Preparing\n",
      "161781de956f: Preparing\n",
      "03129f30db49: Preparing\n",
      "dfd6e0875b42: Preparing\n",
      "0c76014ba194: Preparing\n",
      "d539591c8231: Preparing\n",
      "2bbfa27eabb6: Preparing\n",
      "4e020ec5d133: Preparing\n",
      "5f70bf18a086: Preparing\n",
      "907afd623d1c: Preparing\n",
      "e060e10d65b1: Preparing\n",
      "5f70bf18a086: Preparing\n",
      "79d1368dac1e: Preparing\n",
      "45ef86ee7852: Preparing\n",
      "1c81b840ebbc: Preparing\n",
      "b41c3a398424: Preparing\n",
      "e84ac8de4027: Preparing\n",
      "e8f50471ea10: Preparing\n",
      "0877472bb674: Preparing\n",
      "ebed6db02163: Preparing\n",
      "80fcfae98bdb: Preparing\n",
      "11a54efe1a9f: Preparing\n",
      "f5d0b797ecd6: Preparing\n",
      "b3728bc36be9: Preparing\n",
      "e4f87d7b828a: Preparing\n",
      "4a1f332fd020: Preparing\n",
      "6ba7721dfff5: Preparing\n",
      "2c57e5180c54: Preparing\n",
      "99ba7c40e807: Preparing\n",
      "b183c22ec44e: Preparing\n",
      "5f70bf18a086: Preparing\n",
      "ece1c68893aa: Preparing\n",
      "6c8ea5d035e4: Preparing\n",
      "5f70bf18a086: Preparing\n",
      "7e9a0fadd3bc: Preparing\n",
      "6679cc8cc005: Preparing\n",
      "fffe76c64ef2: Preparing\n",
      "d539591c8231: Waiting\n",
      "2bbfa27eabb6: Waiting\n",
      "4e020ec5d133: Waiting\n",
      "5f70bf18a086: Waiting\n",
      "907afd623d1c: Waiting\n",
      "e060e10d65b1: Waiting\n",
      "79d1368dac1e: Waiting\n",
      "45ef86ee7852: Waiting\n",
      "1c81b840ebbc: Waiting\n",
      "b41c3a398424: Waiting\n",
      "e84ac8de4027: Waiting\n",
      "e8f50471ea10: Waiting\n",
      "0877472bb674: Waiting\n",
      "ebed6db02163: Waiting\n",
      "80fcfae98bdb: Waiting\n",
      "11a54efe1a9f: Waiting\n",
      "f5d0b797ecd6: Waiting\n",
      "b3728bc36be9: Waiting\n",
      "e4f87d7b828a: Waiting\n",
      "4a1f332fd020: Waiting\n",
      "6ba7721dfff5: Waiting\n",
      "2c57e5180c54: Waiting\n",
      "99ba7c40e807: Waiting\n",
      "b183c22ec44e: Waiting\n",
      "ece1c68893aa: Waiting\n",
      "6c8ea5d035e4: Waiting\n",
      "7e9a0fadd3bc: Waiting\n",
      "6679cc8cc005: Waiting\n",
      "fffe76c64ef2: Waiting\n",
      "dfd6e0875b42: Pushed\n",
      "df09f343aa71: Pushed\n",
      "03129f30db49: Pushed\n",
      "0c76014ba194: Pushed\n",
      "d539591c8231: Layer already exists\n",
      "4e020ec5d133: Layer already exists\n",
      "2bbfa27eabb6: Layer already exists\n",
      "5f70bf18a086: Layer already exists\n",
      "e060e10d65b1: Layer already exists\n",
      "907afd623d1c: Layer already exists\n",
      "79d1368dac1e: Layer already exists\n",
      "45ef86ee7852: Layer already exists\n",
      "1c81b840ebbc: Layer already exists\n",
      "e8f50471ea10: Layer already exists\n",
      "e84ac8de4027: Layer already exists\n",
      "b41c3a398424: Layer already exists\n",
      "0877472bb674: Layer already exists\n",
      "ebed6db02163: Layer already exists\n",
      "80fcfae98bdb: Layer already exists\n",
      "f5d0b797ecd6: Layer already exists\n",
      "b3728bc36be9: Layer already exists\n",
      "11a54efe1a9f: Layer already exists\n",
      "e4f87d7b828a: Layer already exists\n",
      "6ba7721dfff5: Layer already exists\n",
      "4a1f332fd020: Layer already exists\n",
      "2c57e5180c54: Layer already exists\n",
      "99ba7c40e807: Layer already exists\n",
      "ece1c68893aa: Layer already exists\n",
      "b183c22ec44e: Layer already exists\n",
      "6c8ea5d035e4: Layer already exists\n",
      "6679cc8cc005: Layer already exists\n",
      "7e9a0fadd3bc: Layer already exists\n",
      "fffe76c64ef2: Layer already exists\n",
      "161781de956f: Pushed\n",
      "v1: digest: sha256:9437b8a3d3f2231038d71326c33123330362e75e09dfca4bcb123dcede82dc92 size: 8043\n",
      "DONE\n",
      "--------------------------------------------------------------------------------\n",
      "ID                                    CREATE_TIME                DURATION  SOURCE                                                                                                  IMAGES                                                                                       STATUS\n",
      "ceae479e-b640-48e1-b619-09d5fad90174  2025-10-04T15:59:31+00:00  3M43S     gs://magnetic-guild-473821-t7_cloudbuild/source/1759593571.374581-cc41a3cddce1446ca4ac3311413124b7.tgz  us-central1-docker.pkg.dev/magnetic-guild-473821-t7/mlops-artifacts/mlops-pipeline-image:v1  SUCCESS\n"
     ]
    }
   ],
   "source": [
    "! gcloud builds submit --tag {IMAGE_PATH} --timeout=15m ./mlops-cli --quiet\n"
   ]
  },
  {
   "cell_type": "markdown",
   "id": "e655858e-4ee9-4ed0-8cda-6cb28995b922",
   "metadata": {},
   "source": [
    "Push image manually (if built locally)"
   ]
  },
  {
   "cell_type": "code",
   "execution_count": 63,
   "id": "561079c4-98f9-4095-ab24-a2b004853cfd",
   "metadata": {
    "tags": []
   },
   "outputs": [
    {
     "name": "stdout",
     "output_type": "stream",
     "text": [
      "The push refers to repository [us-central1-docker.pkg.dev/magnetic-guild-473821-t7/mlops-artifacts/mlops-pipeline-image]\n",
      "\n",
      "\u001b[1B99001ccd: Preparing \n",
      "\u001b[1Bbdbed5b1: Preparing \n",
      "\u001b[1B972a6fdd: Preparing \n",
      "\u001b[1B984a22b7: Preparing \n",
      "\u001b[1B591c8231: Preparing \n",
      "\u001b[1Ba27eabb6: Preparing \n",
      "\u001b[1B0ec5d133: Preparing \n",
      "\u001b[1Bbf18a086: Preparing \n",
      "\u001b[1Bfd623d1c: Preparing \n",
      "\u001b[3Bbf18a086: Preparing \n",
      "\u001b[1B368dac1e: Preparing \n",
      "\u001b[1B86ee7852: Preparing \n",
      "\u001b[1Bb840ebbc: Preparing \n",
      "\u001b[1B3a398424: Preparing \n",
      "\u001b[1Bc8de4027: Preparing \n",
      "\u001b[1B0471ea10: Preparing \n",
      "\u001b[1B472bb674: Preparing \n",
      "\u001b[1B6db02163: Preparing \n",
      "\u001b[1Bfae98bdb: Preparing \n",
      "\u001b[1B4efe1a9f: Preparing \n",
      "\u001b[1Bb797ecd6: Preparing \n",
      "\u001b[1B8bc36be9: Preparing \n",
      "\u001b[1B7d7b828a: Preparing \n",
      "\u001b[1B332fd020: Preparing \n",
      "\u001b[1B721dfff5: Preparing \n",
      "\u001b[1Be5180c54: Preparing \n",
      "\u001b[1B7c40e807: Preparing \n",
      "\u001b[21Bf18a086: Preparing \n",
      "\u001b[1Bc68893aa: Preparing \n",
      "\u001b[23Bf18a086: Preparing \n",
      "\u001b[1B0fadd3bc: Preparing \n",
      "\u001b[1Bcc8cc005: Preparing \n",
      "\u001b[3B0fadd3bc: Layer already exists \u001b[28A\u001b[2K\u001b[22A\u001b[2K\u001b[20A\u001b[2K\u001b[17A\u001b[2K\u001b[13A\u001b[2K\u001b[8A\u001b[2K\u001b[2A\u001b[2Kv1: digest: sha256:177d4bc3e8a041adbde58d392830b666e91ed862e1db5f190d89d25c4f223e91 size: 7835\n"
     ]
    }
   ],
   "source": [
    "! docker push {IMAGE_PATH}\n"
   ]
  },
  {
   "cell_type": "markdown",
   "id": "57420081-4e63-4982-ae28-eccf7215c3d5",
   "metadata": {},
   "source": [
    "(Alternative) Use a Cloud Build configuration file"
   ]
  },
  {
   "cell_type": "code",
   "execution_count": 69,
   "id": "d268d710-96af-4a87-9921-09241c1a0c76",
   "metadata": {
    "tags": []
   },
   "outputs": [
    {
     "name": "stdout",
     "output_type": "stream",
     "text": [
      "Creating temporary archive of 278 file(s) totalling 249.4 MiB before compression.\n",
      "Uploading tarball of [.] to [gs://magnetic-guild-473821-t7_cloudbuild/source/1759595753.624644-2f4f5eee86de4ee5ac0ba6b10c132d12.tgz]\n",
      "Created [https://cloudbuild.googleapis.com/v1/projects/magnetic-guild-473821-t7/locations/global/builds/c2d73b3d-6771-449f-a8e9-3c458cb9c074].\n",
      "Logs are available at [ https://console.cloud.google.com/cloud-build/builds/c2d73b3d-6771-449f-a8e9-3c458cb9c074?project=870469359193 ].\n",
      "\n",
      "gcloud builds submit only displays logs from Cloud Storage. To view logs from Cloud Logging, run:\n",
      "gcloud beta builds submit\n",
      "\n",
      "Waiting for build to complete. Polling interval: 1 second(s).\n",
      "\n",
      "BUILD FAILURE: Build step failure: build step 2 \"us-central1-docker.pkg.dev/magnetic-guild-473821-t7/mlops-artifacts/mlops-pipeline-image:v1\" failed: step exited with non-zero status: 2\n",
      "\u001b[1;31mERROR:\u001b[0m (gcloud.builds.submit) build c2d73b3d-6771-449f-a8e9-3c458cb9c074 completed with status \"FAILURE\"\n"
     ]
    }
   ],
   "source": [
    "! gcloud builds submit --config cloudbuild.yaml\n"
   ]
  },
  {
   "cell_type": "code",
   "execution_count": 5,
   "id": "693a23c2-1915-4d25-beb5-2076826a2bd3",
   "metadata": {},
   "outputs": [
    {
     "ename": "SyntaxError",
     "evalue": "invalid syntax (1072716569.py, line 1)",
     "output_type": "error",
     "traceback": [
      "\u001b[0;36m  Cell \u001b[0;32mIn[5], line 1\u001b[0;36m\u001b[0m\n\u001b[0;31m    gcloud services enable cloudbuild.googleapis.com artifactregistry.googleapis.com\u001b[0m\n\u001b[0m           ^\u001b[0m\n\u001b[0;31mSyntaxError\u001b[0m\u001b[0;31m:\u001b[0m invalid syntax\n"
     ]
    }
   ],
   "source": []
  },
  {
   "cell_type": "code",
   "execution_count": null,
   "id": "77947757-dea6-4b55-bdd2-e69337bf11a5",
   "metadata": {},
   "outputs": [],
   "source": []
  }
 ],
 "metadata": {
  "environment": {
   "kernel": "conda-base-py",
   "name": "workbench-notebooks.m133",
   "type": "gcloud",
   "uri": "us-docker.pkg.dev/deeplearning-platform-release/gcr.io/workbench-notebooks:m133"
  },
  "kernelspec": {
   "display_name": "Python 3 (ipykernel) (Local)",
   "language": "python",
   "name": "conda-base-py"
  },
  "language_info": {
   "codemirror_mode": {
    "name": "ipython",
    "version": 3
   },
   "file_extension": ".py",
   "mimetype": "text/x-python",
   "name": "python",
   "nbconvert_exporter": "python",
   "pygments_lexer": "ipython3",
   "version": "3.10.18"
  }
 },
 "nbformat": 4,
 "nbformat_minor": 5
}
